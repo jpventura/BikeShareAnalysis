{
 "cells": [
  {
   "cell_type": "markdown",
   "metadata": {},
   "source": [
    "# Análise da Bay Area Bike Share\n",
    "\n",
    "## Introdução\n",
    "\n",
    "[BABS (Bay Area Bike Share)](http://www.bayareabikeshare.com/) é uma empresa que oferece aluguel de bicicletas on-demand para clientes em San Francisco, Redwood City, Palo Alto, Mountain View e San Jose. Os usuários podem desbloquear bicicletas de uma variedade de estações em cada cidade, e devolvê-las em qualquer estação dentro da mesma cidade. Os usuários pagam o serviço por meio de assinatura anual ou pela compra de passes de 3 dias ou 24 horas. Os usuários podem fazer um número ilimitado de viagens. Viagens com menos de trinta minutos de duração não têm custo adicional; Viagens mais longas incorrem em taxas de horas extras."
   ]
  },
  {
   "cell_type": "markdown",
   "metadata": {},
   "source": [
    "# Pergunta 1\n",
    "Escreva pelo menos duas perguntas que você acha que poderiam ser respondidas usando os dados."
   ]
  },
  {
   "cell_type": "markdown",
   "metadata": {},
   "source": [
    "## Resposta\n",
    "\n",
    "  - Quais estações possuem maior (e menor) número de bicicletas alugadas?\n",
    "  - Quais horários do dia possuem maior (e menor) número de bicicletas alugadas?"
   ]
  },
  {
   "cell_type": "markdown",
   "metadata": {},
   "source": [
    "# Pergunta 2\n",
    "Que visualizações de Tyler você acha que fornecem as idéias mais interessantes?\n",
    "\n",
    "Selecione duas [visualizações de Tyler](http://thfield.github.io/babs/index.html) que forneçam idéias interessantes e que respondam alguma das perguntas da análise de Tyler."
   ]
  },
  {
   "cell_type": "markdown",
   "metadata": {},
   "source": [
    "## Resposta\n",
    "\n",
    "\n",
    "### Quem são os usuários?\n",
    "![Quem são os usuarios](who.png)\n",
    "\n",
    "### Quanto o BABS é utilizado?\n",
    "![Quanto o BABS é utilizado](usage.png)"
   ]
  },
  {
   "cell_type": "markdown",
   "metadata": {},
   "source": [
    "# Pergunta 2.1\n",
    "\n",
    "Quais são as perguntas que foram respondidas com suas visualizações? Porque você as escolheu?"
   ]
  },
  {
   "cell_type": "markdown",
   "metadata": {},
   "source": [
    "## Resposta\n",
    "Ambas as perguntas foram respondidas pelas visualizações de Tyler.\n",
    "\n",
    "Por ser um desenvolvedor _mobile_ (Android) e _full-stack_ (Python e Node.js), as perguntas mais simples que sempre devemos responder sobre os usuários de um aplicativo:\n",
    "\n",
    "  - Quem são os usuários?\n",
    "  - Quantos desses usuários geram _revenue_ para a empresa?\n",
    "  - Qual o _cohort_ dos usuários (i.e. quando e por quanto tempo eles utilizam o aplicativo)?\n",
    "\n",
    "Tyler mostrou que 80% dos usuários possuem uma assinatura anual, um número eleveado para um serviço não essencial.\n",
    "\n",
    "Ele também mostrou que, ao contrário do que imaginei, os dias de maiores utilização são _dias úteis_, não finais de semana. Logo existe um algo engajamento no serviço, pois ele é utilizado pelo menos 5 dias por semana.\n",
    "\n",
    "Ainda que extremamente simples, essas análises podem ser efetuadas sobre o comportamento de qualquer serviço ou produto. Da mesma forma que um desenvolvedor pode criar novos _features_ para aumentar a utilização e lucro de nosso aplicativo."
   ]
  },
  {
   "cell_type": "markdown",
   "metadata": {},
   "source": [
    "## Limpeza dos dados"
   ]
  },
  {
   "cell_type": "code",
   "execution_count": null,
   "metadata": {
    "collapsed": true
   },
   "outputs": [],
   "source": [
    "# Importa todas as bibliotecas necessárias\n",
    "%matplotlib inline\n",
    "import csv\n",
    "from datetime import datetime\n",
    "import numpy as np\n",
    "import pandas as pd\n",
    "from babs_datacheck import question_3\n",
    "from babs_visualizations import usage_stats, usage_plot\n",
    "from IPython.display import display\n",
    "\n",
    "from itertools import cycle, islice\n",
    "\n",
    "from mpl_toolkits.basemap import Basemap\n",
    "import matplotlib.pyplot as plt\n",
    "\n",
    "import collections\n",
    "import math\n",
    "\n",
    "import matplotlib.cm as cm"
   ]
  },
  {
   "cell_type": "code",
   "execution_count": null,
   "metadata": {
    "collapsed": true
   },
   "outputs": [],
   "source": [
    "def create_trips_file(file_out, file_in, start_date='10/1/2013'):\n",
    "    \"\"\"\n",
    "    Args:\n",
    "        file_out   (string): output file pathname in CSV format\n",
    "        file_in    (string): intput file pathname in CSV format\n",
    "        start_date (string): limit date to be copied\n",
    "    \"\"\"\n",
    "    with open(file_out, 'w') as f_out, open(file_in, 'r') as f_in:\n",
    "        in_reader = csv.reader(f_in)\n",
    "        out_writer = csv.writer(f_out)\n",
    "\n",
    "        while True:\n",
    "            datarow = next(in_reader)\n",
    "            if datarow[2][:9] == start_date:\n",
    "                break\n",
    "            out_writer.writerow(datarow)\n",
    "\n",
    "october_trip_file = 'data/201310_trip_data.csv'\n",
    "create_trips_file(october_trip_file, 'data/201402_trip_data.csv')"
   ]
  },
  {
   "cell_type": "markdown",
   "metadata": {},
   "source": [
    "### Condensando os Dados de Viagem\n",
    "\n",
    "  - Ler arquivo criado anteriormente\n",
    "  - Imprimir primeiras 7 linhas da tabela\n"
   ]
  },
  {
   "cell_type": "code",
   "execution_count": 3,
   "metadata": {
    "scrolled": false
   },
   "outputs": [
    {
     "data": {
      "text/html": [
       "<div>\n",
       "<style>\n",
       "    .dataframe thead tr:only-child th {\n",
       "        text-align: right;\n",
       "    }\n",
       "\n",
       "    .dataframe thead th {\n",
       "        text-align: left;\n",
       "    }\n",
       "\n",
       "    .dataframe tbody tr th {\n",
       "        vertical-align: top;\n",
       "    }\n",
       "</style>\n",
       "<table border=\"1\" class=\"dataframe\">\n",
       "  <thead>\n",
       "    <tr style=\"text-align: right;\">\n",
       "      <th></th>\n",
       "      <th>Trip ID</th>\n",
       "      <th>Duration</th>\n",
       "      <th>Start Date</th>\n",
       "      <th>Start Station</th>\n",
       "      <th>Start Terminal</th>\n",
       "      <th>End Date</th>\n",
       "      <th>End Station</th>\n",
       "      <th>End Terminal</th>\n",
       "      <th>Bike #</th>\n",
       "      <th>Subscription Type</th>\n",
       "      <th>Zip Code</th>\n",
       "    </tr>\n",
       "  </thead>\n",
       "  <tbody>\n",
       "    <tr>\n",
       "      <th>0</th>\n",
       "      <td>4576</td>\n",
       "      <td>63</td>\n",
       "      <td>2013-08-29 14:13:00</td>\n",
       "      <td>South Van Ness at Market</td>\n",
       "      <td>66</td>\n",
       "      <td>2013-08-29 14:14:00</td>\n",
       "      <td>South Van Ness at Market</td>\n",
       "      <td>66</td>\n",
       "      <td>520</td>\n",
       "      <td>Subscriber</td>\n",
       "      <td>94127</td>\n",
       "    </tr>\n",
       "    <tr>\n",
       "      <th>1</th>\n",
       "      <td>4607</td>\n",
       "      <td>70</td>\n",
       "      <td>2013-08-29 14:42:00</td>\n",
       "      <td>San Jose City Hall</td>\n",
       "      <td>10</td>\n",
       "      <td>2013-08-29 14:43:00</td>\n",
       "      <td>San Jose City Hall</td>\n",
       "      <td>10</td>\n",
       "      <td>661</td>\n",
       "      <td>Subscriber</td>\n",
       "      <td>95138</td>\n",
       "    </tr>\n",
       "    <tr>\n",
       "      <th>2</th>\n",
       "      <td>4130</td>\n",
       "      <td>71</td>\n",
       "      <td>2013-08-29 10:16:00</td>\n",
       "      <td>Mountain View City Hall</td>\n",
       "      <td>27</td>\n",
       "      <td>2013-08-29 10:17:00</td>\n",
       "      <td>Mountain View City Hall</td>\n",
       "      <td>27</td>\n",
       "      <td>48</td>\n",
       "      <td>Subscriber</td>\n",
       "      <td>97214</td>\n",
       "    </tr>\n",
       "    <tr>\n",
       "      <th>3</th>\n",
       "      <td>4251</td>\n",
       "      <td>77</td>\n",
       "      <td>2013-08-29 11:29:00</td>\n",
       "      <td>San Jose City Hall</td>\n",
       "      <td>10</td>\n",
       "      <td>2013-08-29 11:30:00</td>\n",
       "      <td>San Jose City Hall</td>\n",
       "      <td>10</td>\n",
       "      <td>26</td>\n",
       "      <td>Subscriber</td>\n",
       "      <td>95060</td>\n",
       "    </tr>\n",
       "    <tr>\n",
       "      <th>4</th>\n",
       "      <td>4299</td>\n",
       "      <td>83</td>\n",
       "      <td>2013-08-29 12:02:00</td>\n",
       "      <td>South Van Ness at Market</td>\n",
       "      <td>66</td>\n",
       "      <td>2013-08-29 12:04:00</td>\n",
       "      <td>Market at 10th</td>\n",
       "      <td>67</td>\n",
       "      <td>319</td>\n",
       "      <td>Subscriber</td>\n",
       "      <td>94103</td>\n",
       "    </tr>\n",
       "    <tr>\n",
       "      <th>5</th>\n",
       "      <td>4927</td>\n",
       "      <td>103</td>\n",
       "      <td>2013-08-29 18:54:00</td>\n",
       "      <td>Golden Gate at Polk</td>\n",
       "      <td>59</td>\n",
       "      <td>2013-08-29 18:56:00</td>\n",
       "      <td>Golden Gate at Polk</td>\n",
       "      <td>59</td>\n",
       "      <td>527</td>\n",
       "      <td>Subscriber</td>\n",
       "      <td>94109</td>\n",
       "    </tr>\n",
       "    <tr>\n",
       "      <th>6</th>\n",
       "      <td>4500</td>\n",
       "      <td>109</td>\n",
       "      <td>2013-08-29 13:25:00</td>\n",
       "      <td>Santa Clara at Almaden</td>\n",
       "      <td>4</td>\n",
       "      <td>2013-08-29 13:27:00</td>\n",
       "      <td>Adobe on Almaden</td>\n",
       "      <td>5</td>\n",
       "      <td>679</td>\n",
       "      <td>Subscriber</td>\n",
       "      <td>95112</td>\n",
       "    </tr>\n",
       "  </tbody>\n",
       "</table>\n",
       "</div>"
      ],
      "text/plain": [
       "   Trip ID  Duration          Start Date             Start Station  \\\n",
       "0     4576        63 2013-08-29 14:13:00  South Van Ness at Market   \n",
       "1     4607        70 2013-08-29 14:42:00        San Jose City Hall   \n",
       "2     4130        71 2013-08-29 10:16:00   Mountain View City Hall   \n",
       "3     4251        77 2013-08-29 11:29:00        San Jose City Hall   \n",
       "4     4299        83 2013-08-29 12:02:00  South Van Ness at Market   \n",
       "5     4927       103 2013-08-29 18:54:00       Golden Gate at Polk   \n",
       "6     4500       109 2013-08-29 13:25:00    Santa Clara at Almaden   \n",
       "\n",
       "   Start Terminal            End Date               End Station  End Terminal  \\\n",
       "0              66 2013-08-29 14:14:00  South Van Ness at Market            66   \n",
       "1              10 2013-08-29 14:43:00        San Jose City Hall            10   \n",
       "2              27 2013-08-29 10:17:00   Mountain View City Hall            27   \n",
       "3              10 2013-08-29 11:30:00        San Jose City Hall            10   \n",
       "4              66 2013-08-29 12:04:00            Market at 10th            67   \n",
       "5              59 2013-08-29 18:56:00       Golden Gate at Polk            59   \n",
       "6               4 2013-08-29 13:27:00          Adobe on Almaden             5   \n",
       "\n",
       "   Bike # Subscription Type Zip Code  \n",
       "0     520        Subscriber    94127  \n",
       "1     661        Subscriber    95138  \n",
       "2      48        Subscriber    97214  \n",
       "3      26        Subscriber    95060  \n",
       "4     319        Subscriber    94103  \n",
       "5     527        Subscriber    94109  \n",
       "6     679        Subscriber    95112  "
      ]
     },
     "metadata": {},
     "output_type": "display_data"
    }
   ],
   "source": [
    "def read_trips(files):\n",
    "    \"\"\"\n",
    "    Args:\n",
    "        files (list): File pathnames containing trips info\n",
    "\n",
    "    Returns:\n",
    "        pd.DataFrame Wrangled information about trips\n",
    "    \"\"\"\n",
    "    files = [ files ] if (type(files) == str) else files\n",
    "    df = pd.concat([ pd.read_csv(f, index_col=None, header=0) for f in files ])\n",
    "\n",
    "    # Clean up all datetime columns\n",
    "    df['End Date'] = df['End Date'].apply(lambda date: datetime.strptime(date, '%m/%d/%Y %H:%M'))\n",
    "    df['Start Date'] = df['Start Date'].apply(lambda date: datetime.strptime(date, '%m/%d/%Y %H:%M'))\n",
    "\n",
    "    return df\n",
    "\n",
    "def display_table(file_in, n=10):\n",
    "    sample_data = read_trips(file_in)\n",
    "    display(sample_data.head(n))\n",
    "\n",
    "display_table(october_trip_file, 7)"
   ]
  },
  {
   "cell_type": "markdown",
   "metadata": {},
   "source": [
    "### Dados das estações\n",
    "\n",
    "  - Número de viagens realizadas\n",
    "  - Momento de início, fim e duração das viagens\n",
    "  - Origem e destino das viagens."
   ]
  },
  {
   "cell_type": "code",
   "execution_count": 4,
   "metadata": {
    "collapsed": true
   },
   "outputs": [],
   "source": [
    "def read_stations(files):\n",
    "    \"\"\"\n",
    "    Args:\n",
    "        files (list): file pathnames with stations data in CSV format\n",
    "    Returns:\n",
    "        pandas.DataFrame with stations data\n",
    "    \"\"\"\n",
    "    files = [ files ] if (type(files) == str) else files\n",
    "    return pd.concat([ pd.read_csv(f, index_col=None, header=0) for f in files ])\n",
    "\n",
    "def landmarks_by_station(stations):\n",
    "    \"\"\"\n",
    "    Args:\n",
    "        stations (pandas.DataFrame): Data frame with stations data\n",
    "    Returns:\n",
    "        dict with landmark indexed by station ID\n",
    "    \"\"\"\n",
    "    return { row['station_id']: row['landmark'] for i, row in stations.iterrows() }"
   ]
  },
  {
   "cell_type": "code",
   "execution_count": 5,
   "metadata": {},
   "outputs": [
    {
     "data": {
      "text/html": [
       "<div>\n",
       "<style>\n",
       "    .dataframe thead tr:only-child th {\n",
       "        text-align: right;\n",
       "    }\n",
       "\n",
       "    .dataframe thead th {\n",
       "        text-align: left;\n",
       "    }\n",
       "\n",
       "    .dataframe tbody tr th {\n",
       "        vertical-align: top;\n",
       "    }\n",
       "</style>\n",
       "<table border=\"1\" class=\"dataframe\">\n",
       "  <thead>\n",
       "    <tr style=\"text-align: right;\">\n",
       "      <th></th>\n",
       "      <th>station_id</th>\n",
       "      <th>name</th>\n",
       "      <th>lat</th>\n",
       "      <th>long</th>\n",
       "      <th>dockcount</th>\n",
       "      <th>landmark</th>\n",
       "      <th>installation</th>\n",
       "    </tr>\n",
       "  </thead>\n",
       "  <tbody>\n",
       "    <tr>\n",
       "      <th>0</th>\n",
       "      <td>2</td>\n",
       "      <td>San Jose Diridon Caltrain Station</td>\n",
       "      <td>37.329732</td>\n",
       "      <td>-121.901782</td>\n",
       "      <td>27</td>\n",
       "      <td>San Jose</td>\n",
       "      <td>8/6/2013</td>\n",
       "    </tr>\n",
       "    <tr>\n",
       "      <th>1</th>\n",
       "      <td>3</td>\n",
       "      <td>San Jose Civic Center</td>\n",
       "      <td>37.330698</td>\n",
       "      <td>-121.888979</td>\n",
       "      <td>15</td>\n",
       "      <td>San Jose</td>\n",
       "      <td>8/5/2013</td>\n",
       "    </tr>\n",
       "    <tr>\n",
       "      <th>2</th>\n",
       "      <td>4</td>\n",
       "      <td>Santa Clara at Almaden</td>\n",
       "      <td>37.333988</td>\n",
       "      <td>-121.894902</td>\n",
       "      <td>11</td>\n",
       "      <td>San Jose</td>\n",
       "      <td>8/6/2013</td>\n",
       "    </tr>\n",
       "    <tr>\n",
       "      <th>3</th>\n",
       "      <td>5</td>\n",
       "      <td>Adobe on Almaden</td>\n",
       "      <td>37.331415</td>\n",
       "      <td>-121.893200</td>\n",
       "      <td>19</td>\n",
       "      <td>San Jose</td>\n",
       "      <td>8/5/2013</td>\n",
       "    </tr>\n",
       "    <tr>\n",
       "      <th>4</th>\n",
       "      <td>6</td>\n",
       "      <td>San Pedro Square</td>\n",
       "      <td>37.336721</td>\n",
       "      <td>-121.894074</td>\n",
       "      <td>15</td>\n",
       "      <td>San Jose</td>\n",
       "      <td>8/7/2013</td>\n",
       "    </tr>\n",
       "  </tbody>\n",
       "</table>\n",
       "</div>"
      ],
      "text/plain": [
       "   station_id                               name        lat        long  \\\n",
       "0           2  San Jose Diridon Caltrain Station  37.329732 -121.901782   \n",
       "1           3              San Jose Civic Center  37.330698 -121.888979   \n",
       "2           4             Santa Clara at Almaden  37.333988 -121.894902   \n",
       "3           5                   Adobe on Almaden  37.331415 -121.893200   \n",
       "4           6                   San Pedro Square  37.336721 -121.894074   \n",
       "\n",
       "   dockcount  landmark installation  \n",
       "0         27  San Jose     8/6/2013  \n",
       "1         15  San Jose     8/5/2013  \n",
       "2         11  San Jose     8/6/2013  \n",
       "3         19  San Jose     8/5/2013  \n",
       "4         15  San Jose     8/7/2013  "
      ]
     },
     "execution_count": 5,
     "metadata": {},
     "output_type": "execute_result"
    }
   ],
   "source": [
    "# Mostra as primeiras linhas do arquivo de dados das estações\n",
    "station_info = read_stations('data/201402_station_data.csv')\n",
    "station_info.head()"
   ]
  },
  {
   "cell_type": "markdown",
   "metadata": {},
   "source": [
    "Preencha a função abaixo de forma que a função retorne um mapeamento entre o `id` da estação (`station_id`) e a cidade em que ela se encontra (`landmark`)."
   ]
  },
  {
   "cell_type": "code",
   "execution_count": 6,
   "metadata": {
    "collapsed": true
   },
   "outputs": [],
   "source": [
    "def create_station_mapping(files):\n",
    "    \"\"\"\n",
    "    Create the mapping between station and city\n",
    "\n",
    "    Args:\n",
    "        files (list): file pathnames with stations data in CSV format\n",
    "    Returns:\n",
    "        dict with landmark indexed by station ID\n",
    "    \"\"\"\n",
    "    return landmarks_by_station(read_stations(files))"
   ]
  },
  {
   "cell_type": "markdown",
   "metadata": {},
   "source": [
    "Na sequência, você deve criar colunas para o ano, mês, hora e dia da semana. Verifique o tutorial acima ou a [documentação para o objeto de datetime no módulo datetime](https://docs.python.org/2/library/datetime.html#datetime-objects). \n",
    "\n",
    "** TODO: Encontre os atributos e métodos necessários para poder completar o código abaixo **\n",
    "\n",
    "*Dica*: Você pode abrir uma nova caixa para testar um pedaço do código ou verificar uma variável que seja global. Caso ela esteja dentro da função, você também pode usar o comando `print()` para imprimi-la e ajudar no Debug."
   ]
  },
  {
   "cell_type": "markdown",
   "metadata": {},
   "source": [
    "# Pergunta 3: \n",
    "Execute o bloco de código abaixo para chamar a função `summarise_data()` que você terminou na célula acima. Ela usará os dados contidos nos arquivos listados nas variáveis `trip_in` e `station_data` e escreverá um novo arquivo no local especificado na variável `trip_out`. Se você executou a limpeza de dados corretamente, o bloco de código abaixo imprimirá as primeiras linhas do DataFrame e uma mensagem que verificando se as contagens de dados estão corretas."
   ]
  },
  {
   "cell_type": "code",
   "execution_count": 7,
   "metadata": {
    "collapsed": true
   },
   "outputs": [],
   "source": [
    "def summarise_data(trip_in, station_in, trip_out):\n",
    "    \"\"\"\n",
    "    All your bases are belong to us\n",
    "\n",
    "    Arguments:\n",
    "        trip_in  (list)  : files of trip data in CSV format\n",
    "        stations (dict)  : station mapping of lardmarks\n",
    "        trip_out (string): output file with summarized data\n",
    "    \"\"\"\n",
    "    # Create a list if only one file is provided\n",
    "    df = read_trips(trip_in)\n",
    "\n",
    "    stations = create_station_mapping(station_in)\n",
    "    summary = dict()\n",
    "\n",
    "    # Calculate trip duration in minutes instead of seconds\n",
    "    summary['duration'] = df['Duration'].apply(lambda duration: float(duration)/60.0)\n",
    "\n",
    "    # Split trip start datetime into date, year, month, hour, and weekday\n",
    "    summary['start_date'] = df['Start Date'].apply(lambda isodate: isodate.strftime('%Y-%m-%d'))\n",
    "    summary['start_year'] = df['Start Date'].apply(lambda iso_date: iso_date.year)\n",
    "    summary['start_month'] = df['Start Date'].apply(lambda iso_date: iso_date.month)\n",
    "    summary['start_hour'] = df['Start Date'].apply(lambda iso_date: iso_date.hour)\n",
    "    summary['weekday'] = df['Start Date'].apply(lambda iso_date: iso_date.weekday())\n",
    "\n",
    "    # Obtain start/end city from station\n",
    "    summary['start_city'] = df['Start Terminal'].apply(lambda station_id: stations[station_id])\n",
    "    summary['end_city'] = df['End Terminal'].apply(lambda station_id: stations[station_id])\n",
    "\n",
    "    # Subscription type column also named 'subscriber type' in some files\n",
    "    if 'Subscription Type' in df.columns:\n",
    "        summary['subscription_type'] = df['Subscription Type']\n",
    "    else:\n",
    "        summary['subscription_type'] = df['Subscriber Type']\n",
    "\n",
    "    pd.DataFrame(summary).to_csv(trip_out)"
   ]
  },
  {
   "cell_type": "code",
   "execution_count": 8,
   "metadata": {
    "collapsed": true
   },
   "outputs": [],
   "source": [
    "# processe os dados usando a função criada acima\n",
    "station_data = 'data/201402_station_data.csv'\n",
    "trip_in = 'data/201309_trip_data.csv'\n",
    "trip_out = 'data/201309_trip_summary.csv'\n",
    "summarise_data(trip_in, station_data, trip_out)"
   ]
  },
  {
   "cell_type": "code",
   "execution_count": 9,
   "metadata": {},
   "outputs": [
    {
     "data": {
      "text/html": [
       "<div>\n",
       "<style>\n",
       "    .dataframe thead tr:only-child th {\n",
       "        text-align: right;\n",
       "    }\n",
       "\n",
       "    .dataframe thead th {\n",
       "        text-align: left;\n",
       "    }\n",
       "\n",
       "    .dataframe tbody tr th {\n",
       "        vertical-align: top;\n",
       "    }\n",
       "</style>\n",
       "<table border=\"1\" class=\"dataframe\">\n",
       "  <thead>\n",
       "    <tr style=\"text-align: right;\">\n",
       "      <th></th>\n",
       "      <th>Unnamed: 0</th>\n",
       "      <th>duration</th>\n",
       "      <th>end_city</th>\n",
       "      <th>start_city</th>\n",
       "      <th>start_date</th>\n",
       "      <th>start_hour</th>\n",
       "      <th>start_month</th>\n",
       "      <th>start_year</th>\n",
       "      <th>subscription_type</th>\n",
       "      <th>weekday</th>\n",
       "    </tr>\n",
       "  </thead>\n",
       "  <tbody>\n",
       "    <tr>\n",
       "      <th>0</th>\n",
       "      <td>0</td>\n",
       "      <td>1.050000</td>\n",
       "      <td>San Francisco</td>\n",
       "      <td>San Francisco</td>\n",
       "      <td>2013-08-29</td>\n",
       "      <td>14</td>\n",
       "      <td>8</td>\n",
       "      <td>2013</td>\n",
       "      <td>Subscriber</td>\n",
       "      <td>3</td>\n",
       "    </tr>\n",
       "    <tr>\n",
       "      <th>1</th>\n",
       "      <td>1</td>\n",
       "      <td>1.166667</td>\n",
       "      <td>San Jose</td>\n",
       "      <td>San Jose</td>\n",
       "      <td>2013-08-29</td>\n",
       "      <td>14</td>\n",
       "      <td>8</td>\n",
       "      <td>2013</td>\n",
       "      <td>Subscriber</td>\n",
       "      <td>3</td>\n",
       "    </tr>\n",
       "    <tr>\n",
       "      <th>2</th>\n",
       "      <td>2</td>\n",
       "      <td>1.183333</td>\n",
       "      <td>Mountain View</td>\n",
       "      <td>Mountain View</td>\n",
       "      <td>2013-08-29</td>\n",
       "      <td>10</td>\n",
       "      <td>8</td>\n",
       "      <td>2013</td>\n",
       "      <td>Subscriber</td>\n",
       "      <td>3</td>\n",
       "    </tr>\n",
       "    <tr>\n",
       "      <th>3</th>\n",
       "      <td>3</td>\n",
       "      <td>1.283333</td>\n",
       "      <td>San Jose</td>\n",
       "      <td>San Jose</td>\n",
       "      <td>2013-08-29</td>\n",
       "      <td>11</td>\n",
       "      <td>8</td>\n",
       "      <td>2013</td>\n",
       "      <td>Subscriber</td>\n",
       "      <td>3</td>\n",
       "    </tr>\n",
       "    <tr>\n",
       "      <th>4</th>\n",
       "      <td>4</td>\n",
       "      <td>1.383333</td>\n",
       "      <td>San Francisco</td>\n",
       "      <td>San Francisco</td>\n",
       "      <td>2013-08-29</td>\n",
       "      <td>12</td>\n",
       "      <td>8</td>\n",
       "      <td>2013</td>\n",
       "      <td>Subscriber</td>\n",
       "      <td>3</td>\n",
       "    </tr>\n",
       "  </tbody>\n",
       "</table>\n",
       "</div>"
      ],
      "text/plain": [
       "   Unnamed: 0  duration       end_city     start_city  start_date  start_hour  \\\n",
       "0           0  1.050000  San Francisco  San Francisco  2013-08-29          14   \n",
       "1           1  1.166667       San Jose       San Jose  2013-08-29          14   \n",
       "2           2  1.183333  Mountain View  Mountain View  2013-08-29          10   \n",
       "3           3  1.283333       San Jose       San Jose  2013-08-29          11   \n",
       "4           4  1.383333  San Francisco  San Francisco  2013-08-29          12   \n",
       "\n",
       "   start_month  start_year subscription_type  weekday  \n",
       "0            8        2013        Subscriber        3  \n",
       "1            8        2013        Subscriber        3  \n",
       "2            8        2013        Subscriber        3  \n",
       "3            8        2013        Subscriber        3  \n",
       "4            8        2013        Subscriber        3  "
      ]
     },
     "metadata": {},
     "output_type": "display_data"
    }
   ],
   "source": [
    "# Carregue os dados novamente mostrando os dados\n",
    "sample_data = pd.read_csv(trip_out)\n",
    "display(sample_data.head())"
   ]
  },
  {
   "cell_type": "code",
   "execution_count": 10,
   "metadata": {},
   "outputs": [
    {
     "name": "stdout",
     "output_type": "stream",
     "text": [
      "Todas as contagens estão como esperadas.\n"
     ]
    }
   ],
   "source": [
    "# Ensure sample data was wrangled correctly\n",
    "question_3(sample_data)"
   ]
  },
  {
   "cell_type": "markdown",
   "metadata": {},
   "source": [
    "## Análise Exploratória de Dados \n",
    "\n",
    "Agora que você tem alguns dados salvos em um arquivo, vejamos algumas tendências iniciais nos dados. Algum código já foi escrito para você no script [babs_visualizations.py](babs_visualizations.py) para ajudar a resumir e visualizar os dados; Isso foi importado como as funções `usage_stats()` e `usage_plot()`. Nesta seção, vamos percorrer algumas das coisas que você pode fazer com as funções, e você usará as funções para você mesmo na última parte do projeto. Primeiro, execute a seguinte célula para carregar os dados. Depois preencha a célula abaixo com os comandos para verificar os dados básicos sobre os dados."
   ]
  },
  {
   "cell_type": "code",
   "execution_count": 11,
   "metadata": {
    "collapsed": true
   },
   "outputs": [],
   "source": [
    "def custom_usage_stats(pathname):\n",
    "    trip_data = pd.read_csv(pathname)\n",
    "\n",
    "    print('Existem {:d} pontos no conjunto de dados'.format(len(trip_data)))\n",
    "    print('A duração média das viagens foi de {:.2f} minutos'.format(trip_data['duration'].mean()))\n",
    "    print('A mediana das durações das viagens foi de {:.2f} minutos'.format(trip_data['duration'].median()))\n",
    "\n",
    "    duration_qtiles = trip_data['duration'].quantile([.25, .5, .75]).as_matrix()\n",
    "    print('25% das viagens foram mais curtas do que {:.2f} minutos'.format(duration_qtiles[0]))\n",
    "    print('25% das viagens foram mais compridas do que {:.2f} minutos'.format(duration_qtiles[2]))"
   ]
  },
  {
   "cell_type": "code",
   "execution_count": 12,
   "metadata": {},
   "outputs": [
    {
     "name": "stdout",
     "output_type": "stream",
     "text": [
      "Existem 27345 pontos no conjunto de dados\n",
      "A duração média das viagens foi de 27.60 minutos\n",
      "A mediana das durações das viagens foi de 10.72 minutos\n",
      "25% das viagens foram mais curtas do que 6.82 minutos\n",
      "25% das viagens foram mais compridas do que 17.28 minutos\n"
     ]
    }
   ],
   "source": [
    "custom_usage_stats('data/201309_trip_summary.csv')"
   ]
  },
  {
   "cell_type": "code",
   "execution_count": 13,
   "metadata": {},
   "outputs": [
    {
     "name": "stdout",
     "output_type": "stream",
     "text": [
      "Existem 27345 pontos no conjunto de dados\n",
      "A duração média das viagens foi de 27.60 minutos\n",
      "A mediana das durações das viagens foi de 10.72 minutos\n",
      "25% das viagens foram mais curtas do que 6.82 minutos\n",
      "25% das viagens foram mais compridas do que 17.28 minutos\n"
     ]
    },
    {
     "data": {
      "text/plain": [
       "array([  6.81666667,  10.71666667,  17.28333333])"
      ]
     },
     "execution_count": 13,
     "metadata": {},
     "output_type": "execute_result"
    }
   ],
   "source": [
    "# Ensure custom stats were printed correclty\n",
    "trip_data = pd.read_csv('data/201309_trip_summary.csv')\n",
    "usage_stats(trip_data)"
   ]
  },
  {
   "cell_type": "markdown",
   "metadata": {},
   "source": [
    "Você deve ver que há mais de 27.000 viagens no primeiro mês e que a duração média da viagem é maior do que a duração mediana da viagem (o ponto em que 50% das viagens são mais curtas e 50% são mais longas). Na verdade, a média é maior que as durações de 75% das viagens mais curtas. Isso será interessante para ver mais adiante."
   ]
  },
  {
   "cell_type": "code",
   "execution_count": 14,
   "metadata": {
    "collapsed": true
   },
   "outputs": [],
   "source": [
    "def plot_subscription_type(pathname):    \n",
    "    subscription_data = trip_data.groupby('subscription_type')[['duration']].count();\n",
    "\n",
    "    subscription_data.plot(kind='bar', legend=False, width=0.8, figsize=(8, 6))\n",
    "\n",
    "    plt.title('Trips by subscription type')\n",
    "    plt.xlabel('Customer type')\n",
    "    plt.ylabel('Trips')\n",
    "\n",
    "def plot_trip(trip_data):\n",
    "    trip_data['duration'].hist(figsize=(8, 6))\n",
    "\n",
    "    plt.title('Trips by duration')\n",
    "    plt.ylabel('Trips')\n",
    "    plt.xlabel('Duration')\n",
    "    plt.show()\n",
    "\n",
    "def plot_short_trip(trip_data):\n",
    "    short_trip_data = trip_data[trip_data['duration'] < 60]\n",
    "\n",
    "    steps = range(0, 70, 5)\n",
    "    short_trip_data['duration'].hist(bins=steps, figsize=(8, 6))\n",
    "\n",
    "    plt.title('Trips by duration')\n",
    "    plt.ylabel('Trips')\n",
    "    plt.xlabel('Duration')\n",
    "    plt.show()\n",
    "\n",
    "def plot_start_city(trip_data):\n",
    "    city_data = trip_data[trip_data['duration'] > 5]\n",
    "    city_data = trip_data[trip_data['duration'] <= 10]\n",
    "    usage_plot(city_data, 'start_city', bin_width=0.1)\n",
    "\n",
    "def plot_end_city(trip_data):\n",
    "    city_data = trip_data[trip_data['duration'] > 5]\n",
    "    city_data = trip_data[trip_data['duration'] <= 10]\n",
    "    usage_plot(city_data, 'end_city', bin_width=0.1)\n"
   ]
  },
  {
   "cell_type": "code",
   "execution_count": 15,
   "metadata": {},
   "outputs": [
    {
     "data": {
      "image/png": "[encoded data removed]",
      "text/plain": [
       "<matplotlib.figure.Figure at 0x104402ed0>"
      ]
     },
     "metadata": {},
     "output_type": "display_data"
    }
   ],
   "source": [
    "plot_subscription_type(trip_data)"
   ]
  },
  {
   "cell_type": "markdown",
   "metadata": {},
   "source": [
    "Para que você possa conferir se os seus gráficos estão corretos, usaremos a função `use_plot()`. O segundo argumento da função nos permite contar as viagens em uma variável selecionada, exibindo as informações em um gráfico. A expressão abaixo mostrará como deve ter ficado o seu gráfico acima."
   ]
  },
  {
   "cell_type": "code",
   "execution_count": 16,
   "metadata": {
    "scrolled": true
   },
   "outputs": [
    {
     "data": {
      "image/png": "[encoded data removed]",
      "text/plain": [
       "<matplotlib.figure.Figure at 0x10eab1310>"
      ]
     },
     "metadata": {},
     "output_type": "display_data"
    }
   ],
   "source": [
    "# Ensure bar were plotted correclty\n",
    "usage_plot(trip_data, 'subscription_type')"
   ]
  },
  {
   "cell_type": "markdown",
   "metadata": {},
   "source": [
    "Parece que existe 50% mais viagens feitas por assinantes (subscribers) no primeiro mês do que outro tipos de consumidores. Vamos tentar uma outra variável. Como é a distribuição da duração das viagens (trip duration)?"
   ]
  },
  {
   "cell_type": "code",
   "execution_count": 17,
   "metadata": {},
   "outputs": [
    {
     "data": {
      "image/png": "[encoded data removed]",
      "text/plain": [
       "<matplotlib.figure.Figure at 0x104402d50>"
      ]
     },
     "metadata": {},
     "output_type": "display_data"
    }
   ],
   "source": [
    "plot_trip(trip_data)"
   ]
  },
  {
   "cell_type": "code",
   "execution_count": 18,
   "metadata": {},
   "outputs": [
    {
     "data": {
      "image/png": "[encoded data removed]",
      "text/plain": [
       "<matplotlib.figure.Figure at 0x10e6aaf50>"
      ]
     },
     "metadata": {},
     "output_type": "display_data"
    }
   ],
   "source": [
    "# Ensure bar were plotted correclty\n",
    "usage_plot(trip_data, 'duration')"
   ]
  },
  {
   "cell_type": "markdown",
   "metadata": {},
   "source": [
    "Parece muito estranho, não é? Dê uma olhada nos valores de duração no eixo x. A maioria dos passeios deve ser de 30 minutos ou menos, uma vez que há taxas de excesso de tempo extra em uma única viagem. A primeira barra abrange durações de até 1000 minutos, ou mais de 16 horas. Com base nas estatísticas que obtivemos do `use_stats()`, deveríamos ter esperado algumas viagens com durações muito longas que levem a média a ser muito superior à mediana: o gráfico mostra isso de forma dramática, mas inútil.\n",
    "\n",
    "Ao explorar os dados, muitas vezes você precisará trabalhar com os parâmetros da função de visualização para facilitar a compreensão dos dados. É aqui que os filtros vão ajudar você. Comecemos por limitar as  viagens de menos de 60 minutos."
   ]
  },
  {
   "cell_type": "code",
   "execution_count": 19,
   "metadata": {},
   "outputs": [
    {
     "data": {
      "image/png": "[encoded data removed]",
      "text/plain": [
       "<matplotlib.figure.Figure at 0x10e7725d0>"
      ]
     },
     "metadata": {},
     "output_type": "display_data"
    }
   ],
   "source": [
    "plot_short_trip(trip_data)"
   ]
  },
  {
   "cell_type": "code",
   "execution_count": 20,
   "metadata": {},
   "outputs": [
    {
     "data": {
      "image/png": "[encoded data removed]",
      "text/plain": [
       "<matplotlib.figure.Figure at 0x10e7c8c90>"
      ]
     },
     "metadata": {},
     "output_type": "display_data"
    }
   ],
   "source": [
    "# descomente a linha abaixo para verificar o gráfico esperado.\n",
    "usage_plot(trip_data, 'duration', ['duration < 60'])"
   ]
  },
  {
   "cell_type": "markdown",
   "metadata": {},
   "source": [
    "Isso está bem melhor! Você pode ver que a maioria das viagens têm menos de 30 minutos de duração, mas que você pode fazer mais para melhorar a apresentação. Uma vez que a duração mínima não é 0, a barra da esquerda está ligeiramente acima de 0. Nós queremos saber onde existe um limite perto dos 30 minutos, então ficará mais agradável se tivermos tamanhos de intervalos (bin sizes) e limites dos intervalos que correspondam a alguns minutos. \n",
    "\n",
    "Felizmente, o Pandas e o Matplotlib te dão a opção de resolver ester problemas. Uma das maneiras de fazê-lo é definindo qual o intervalo no eixo x (parâmetro range) e quantos intervalos desejamos (bins).\n",
    "\n",
    "No campo abaixo, faça o ajuste do gráfico para que os limites das barras se encontrem nas extremidades e que as barras tenham tamanho 5 (0, 5, 10, 15, etc). Se precisar, use a [documentação](http://matplotlib.org/api/_as_gen/matplotlib.axes.Axes.hist.html#matplotlib.axes.Axes.hist)."
   ]
  },
  {
   "cell_type": "code",
   "execution_count": 21,
   "metadata": {},
   "outputs": [
    {
     "data": {
      "image/png": "[encoded data removed]",
      "text/plain": [
       "<matplotlib.figure.Figure at 0x111e26ad0>"
      ]
     },
     "metadata": {},
     "output_type": "display_data"
    }
   ],
   "source": [
    "plot_short_trip(trip_data)"
   ]
  },
  {
   "cell_type": "code",
   "execution_count": 22,
   "metadata": {},
   "outputs": [
    {
     "data": {
      "image/png": "[encoded data removed]",
      "text/plain": [
       "<matplotlib.figure.Figure at 0x10e92d810>"
      ]
     },
     "metadata": {},
     "output_type": "display_data"
    }
   ],
   "source": [
    "# rode esta linha para verificar como deve ficar o seu gráfico\n",
    "usage_plot(trip_data, 'duration', ['duration < 60'], boundary = 0, bin_width = 5)"
   ]
  },
  {
   "cell_type": "markdown",
   "metadata": {},
   "source": [
    "Pequenos ajustes como este podem ser pequenos mas fazem toda a diferença na entrega de um trabalho de qualidade e com atenção aos detalhes.\n"
   ]
  },
  {
   "cell_type": "markdown",
   "metadata": {},
   "source": [
    "# Pergunta 4\n",
    "\n",
    "Analise o histograma do exercicio anterior e responda:\n",
    "\n",
    "Qual o intervalo de duração com maior quantidade de viagens?\n",
    "\n",
    "## Resposta\n",
    "O intervalo com maior quantidade de viagens foi entre 5 e 10 minutos. "
   ]
  },
  {
   "cell_type": "markdown",
   "metadata": {},
   "source": [
    "# Pergunta 4.1\n",
    "\n",
    "Com base na sua resposta da pergunta anterior, conte quantas viagens existem para cada origem e destino desse intervalo de tempo. Monte uma tabela que demonstre isso. \n",
    "\n",
    "Qual origem e destino tem a maior quantidade de viagens?  Aproximadamente quantas viagens foram feitas nesta faixa de tempo?\n",
    "\n",
    "\n",
    "## Reposta\n",
    "São Francisco foi a cidade com maior número de entradas e saídas de bicicletas, totalizando aproximadamente 11 mil viagens."
   ]
  },
  {
   "cell_type": "code",
   "execution_count": 25,
   "metadata": {},
   "outputs": [
    {
     "data": {
      "text/plain": [
       "start_city\n",
       "Mountain View      191\n",
       "Palo Alto          107\n",
       "Redwood City       168\n",
       "San Francisco    11005\n",
       "San Jose          1047\n",
       "Name: start_city, dtype: int64"
      ]
     },
     "execution_count": 25,
     "metadata": {},
     "output_type": "execute_result"
    }
   ],
   "source": [
    "city_data = trip_data[trip_data['duration'] > 5]\n",
    "city_data = trip_data[trip_data['duration'] <= 10]\n",
    "city_data.groupby('start_city')['start_city'].count().head()"
   ]
  },
  {
   "cell_type": "code",
   "execution_count": 26,
   "metadata": {},
   "outputs": [
    {
     "data": {
      "image/png": "[encoded data removed]",
      "text/plain": [
       "<matplotlib.figure.Figure at 0x1042ca5d0>"
      ]
     },
     "metadata": {},
     "output_type": "display_data"
    }
   ],
   "source": [
    "plot_start_city(trip_data)"
   ]
  },
  {
   "cell_type": "code",
   "execution_count": 27,
   "metadata": {},
   "outputs": [
    {
     "data": {
      "text/plain": [
       "end_city\n",
       "Mountain View      191\n",
       "Palo Alto          107\n",
       "Redwood City       168\n",
       "San Francisco    11005\n",
       "San Jose          1047\n",
       "Name: end_city, dtype: int64"
      ]
     },
     "execution_count": 27,
     "metadata": {},
     "output_type": "execute_result"
    }
   ],
   "source": [
    "city_data = trip_data[trip_data['duration'] > 5]\n",
    "city_data = trip_data[trip_data['duration'] <= 10]\n",
    "city_data.groupby('end_city')['end_city'].count().head()"
   ]
  },
  {
   "cell_type": "code",
   "execution_count": 28,
   "metadata": {},
   "outputs": [
    {
     "data": {
      "image/png": "[encoded data removed]",
      "text/plain": [
       "<matplotlib.figure.Figure at 0x112101210>"
      ]
     },
     "metadata": {},
     "output_type": "display_data"
    }
   ],
   "source": [
    "plot_end_city(trip_data)"
   ]
  },
  {
   "cell_type": "markdown",
   "metadata": {
    "collapsed": true
   },
   "source": [
    "## Fazendo suas Próprias Análises\n",
    "\n",
    "Agora que você fez alguma exploração em uma pequena amostra do conjunto de dados, é hora de avançar e reunir todos os dados em um único arquivo e ver quais tendências você pode encontrar. O código abaixo usará a mesma função `summarise_data()` para processar dados. Depois de executar a célula abaixo, você terá processado todos os dados em um único arquivo de dados. Observe que a função não exibirá qualquer saída enquanto ele é executado, e isso pode demorar um pouco para ser concluído, pois você tem muito mais dados do que a amostra com a qual você trabalhou."
   ]
  },
  {
   "cell_type": "code",
   "execution_count": 29,
   "metadata": {
    "collapsed": true
   },
   "outputs": [],
   "source": [
    "station_data = [\n",
    "    'data/201402_station_data.csv',\n",
    "    'data/201408_station_data.csv',\n",
    "    'data/201508_station_data.csv'\n",
    "]\n",
    "\n",
    "trip_in = [\n",
    "    'data/201402_trip_data.csv',\n",
    "    'data/201408_trip_data.csv',\n",
    "    'data/201508_trip_data.csv'\n",
    "]\n",
    "\n",
    "trip_out = 'data/babs_y1_y2_summary.csv'\n",
    "\n",
    "# Esta função irá ler as informações das estações e das viagens\n",
    "# e escreverá um arquivo processado com o nome trip_out\n",
    "summarise_data(trip_in, station_data, trip_out)"
   ]
  },
  {
   "cell_type": "markdown",
   "metadata": {},
   "source": [
    "Já que a função `summarise_data()` escreveu um arquivo de saída, a célula acima não precisa ser rodada novamente mesmo que este notebook seja fechado e uma nova sessão seja criada. Você pode simplesmente ler os dados novamente e fazer a exploração deste ponto (não esqueça de executar a parte das funções no começo do notebook caso esteja em uma nova sessão)"
   ]
  },
  {
   "cell_type": "code",
   "execution_count": 82,
   "metadata": {},
   "outputs": [
    {
     "data": {
      "text/html": [
       "<div>\n",
       "<style>\n",
       "    .dataframe thead tr:only-child th {\n",
       "        text-align: right;\n",
       "    }\n",
       "\n",
       "    .dataframe thead th {\n",
       "        text-align: left;\n",
       "    }\n",
       "\n",
       "    .dataframe tbody tr th {\n",
       "        vertical-align: top;\n",
       "    }\n",
       "</style>\n",
       "<table border=\"1\" class=\"dataframe\">\n",
       "  <thead>\n",
       "    <tr style=\"text-align: right;\">\n",
       "      <th></th>\n",
       "      <th>Unnamed: 0</th>\n",
       "      <th>duration</th>\n",
       "      <th>end_city</th>\n",
       "      <th>start_city</th>\n",
       "      <th>start_date</th>\n",
       "      <th>start_hour</th>\n",
       "      <th>start_month</th>\n",
       "      <th>start_year</th>\n",
       "      <th>subscription_type</th>\n",
       "      <th>weekday</th>\n",
       "    </tr>\n",
       "  </thead>\n",
       "  <tbody>\n",
       "    <tr>\n",
       "      <th>0</th>\n",
       "      <td>0</td>\n",
       "      <td>1.050000</td>\n",
       "      <td>San Francisco</td>\n",
       "      <td>San Francisco</td>\n",
       "      <td>2013-08-29</td>\n",
       "      <td>14</td>\n",
       "      <td>8</td>\n",
       "      <td>2013</td>\n",
       "      <td>Subscriber</td>\n",
       "      <td>3</td>\n",
       "    </tr>\n",
       "    <tr>\n",
       "      <th>1</th>\n",
       "      <td>1</td>\n",
       "      <td>1.166667</td>\n",
       "      <td>San Jose</td>\n",
       "      <td>San Jose</td>\n",
       "      <td>2013-08-29</td>\n",
       "      <td>14</td>\n",
       "      <td>8</td>\n",
       "      <td>2013</td>\n",
       "      <td>Subscriber</td>\n",
       "      <td>3</td>\n",
       "    </tr>\n",
       "    <tr>\n",
       "      <th>2</th>\n",
       "      <td>2</td>\n",
       "      <td>1.183333</td>\n",
       "      <td>Mountain View</td>\n",
       "      <td>Mountain View</td>\n",
       "      <td>2013-08-29</td>\n",
       "      <td>10</td>\n",
       "      <td>8</td>\n",
       "      <td>2013</td>\n",
       "      <td>Subscriber</td>\n",
       "      <td>3</td>\n",
       "    </tr>\n",
       "    <tr>\n",
       "      <th>3</th>\n",
       "      <td>3</td>\n",
       "      <td>1.283333</td>\n",
       "      <td>San Jose</td>\n",
       "      <td>San Jose</td>\n",
       "      <td>2013-08-29</td>\n",
       "      <td>11</td>\n",
       "      <td>8</td>\n",
       "      <td>2013</td>\n",
       "      <td>Subscriber</td>\n",
       "      <td>3</td>\n",
       "    </tr>\n",
       "    <tr>\n",
       "      <th>4</th>\n",
       "      <td>4</td>\n",
       "      <td>1.383333</td>\n",
       "      <td>San Francisco</td>\n",
       "      <td>San Francisco</td>\n",
       "      <td>2013-08-29</td>\n",
       "      <td>12</td>\n",
       "      <td>8</td>\n",
       "      <td>2013</td>\n",
       "      <td>Subscriber</td>\n",
       "      <td>3</td>\n",
       "    </tr>\n",
       "  </tbody>\n",
       "</table>\n",
       "</div>"
      ],
      "text/plain": [
       "   Unnamed: 0  duration       end_city     start_city  start_date  start_hour  \\\n",
       "0           0  1.050000  San Francisco  San Francisco  2013-08-29          14   \n",
       "1           1  1.166667       San Jose       San Jose  2013-08-29          14   \n",
       "2           2  1.183333  Mountain View  Mountain View  2013-08-29          10   \n",
       "3           3  1.283333       San Jose       San Jose  2013-08-29          11   \n",
       "4           4  1.383333  San Francisco  San Francisco  2013-08-29          12   \n",
       "\n",
       "   start_month  start_year subscription_type  weekday  \n",
       "0            8        2013        Subscriber        3  \n",
       "1            8        2013        Subscriber        3  \n",
       "2            8        2013        Subscriber        3  \n",
       "3            8        2013        Subscriber        3  \n",
       "4            8        2013        Subscriber        3  "
      ]
     },
     "metadata": {},
     "output_type": "display_data"
    }
   ],
   "source": [
    "trip_data = pd.read_csv('data/babs_y1_y2_summary.csv', low_memory=False)\n",
    "display(trip_data.head())"
   ]
  },
  {
   "cell_type": "code",
   "execution_count": 36,
   "metadata": {
    "collapsed": true
   },
   "outputs": [],
   "source": [
    "Location = collections.namedtuple('Location', ['city', 'lat', 'lng'])\n",
    "\n",
    "def create_location(row):\n",
    "    return Location(row['landmark'], row['lat'], row['long'])\n",
    "\n",
    "def create_station_location_mapping(files):\n",
    "    files = [ files ] if (type(files) == str) else files\n",
    "    df = pd.concat([ pd.read_csv(f, index_col=None, header=0) for f in files ])\n",
    "    return { row['station_id']: create_location(row) for i, row in df.iterrows() }\n",
    "\n",
    "def custom_summarise_data(trip_in, station_in, trip_out):\n",
    "    \"\"\"\n",
    "    All your bases are belong to us\n",
    "\n",
    "    Arguments:\n",
    "        trip_in  (list)  : files of trip data in CSV format\n",
    "        stations (dict)  : station mapping of (city, latitude, longitude)\n",
    "        trip_out (string): output file with summarized data\n",
    "    \"\"\"\n",
    "    # Create a list if only one file is provided\n",
    "    df = read_trips(trip_in)\n",
    "\n",
    "    stations = create_station_location_mapping(station_in)\n",
    "    summary = dict()\n",
    "    \n",
    "    # Calculate trip duration in minutes instead of seconds\n",
    "    summary['duration'] = df['Duration'].apply(lambda duration: float(duration)/60.0)\n",
    "\n",
    "    # Obtain start/end city from station\n",
    "    summary['start_id'] = df['Start Terminal']\n",
    "    summary['start_city'] = df['Start Terminal'].apply(lambda station_id: stations[station_id].city)\n",
    "    summary['start_lat'] = df['Start Terminal'].apply(lambda station_id: float(stations[station_id].lat))\n",
    "    summary['start_lng'] = df['Start Terminal'].apply(lambda station_id: float(stations[station_id].lng))\n",
    "\n",
    "    # Subscription type column also named 'subscriber type' in some files\n",
    "    if 'Subscription Type' in df.columns:\n",
    "        summary['subscription_type'] = df['Subscription Type']\n",
    "    else:\n",
    "        summary['subscription_type'] = df['Subscriber Type']\n",
    "\n",
    "    pd.DataFrame(summary).to_csv(trip_out)\n",
    "\n",
    "def plot_stations_in_map(location_df):\n",
    "    plt.figure(figsize=(16, 9))\n",
    "\n",
    "    atlas = Basemap(\n",
    "        llcrnrlon  = -123.000000000,\n",
    "        llcrnrlat  =   38.000000000,\n",
    "        urcrnrlon  = -122.000000000,\n",
    "        urcrnrlat  =  37.0000000000,\n",
    "        resolution = 'h',\n",
    "        projection = 'tmerc',\n",
    "        lat_0      =  37.6200192727,\n",
    "        lon_0      = -122.359477129\n",
    "    )\n",
    "\n",
    "    labels = [name for name in location_df['start_city']]\n",
    "    lat = [lat for lat in location_df['start_lat']]\n",
    "    lng = [lng for lng in location_df['start_lng']]\n",
    "\n",
    "    atlas.drawcoastlines()\n",
    "    atlas.drawcounties(zorder=0, color='gray')\n",
    "\n",
    "    lng, lat = atlas(lng, lat)\n",
    "    atlas.plot(lng, lat, 'go', markersize=5)\n",
    "\n",
    "    plt.show()\n",
    "\n",
    "def plot_rides_in_map(location_df):\n",
    "    location_df.head()"
   ]
  },
  {
   "cell_type": "code",
   "execution_count": 32,
   "metadata": {},
   "outputs": [
    {
     "data": {
      "text/html": [
       "<div>\n",
       "<style>\n",
       "    .dataframe thead tr:only-child th {\n",
       "        text-align: right;\n",
       "    }\n",
       "\n",
       "    .dataframe thead th {\n",
       "        text-align: left;\n",
       "    }\n",
       "\n",
       "    .dataframe tbody tr th {\n",
       "        vertical-align: top;\n",
       "    }\n",
       "</style>\n",
       "<table border=\"1\" class=\"dataframe\">\n",
       "  <thead>\n",
       "    <tr style=\"text-align: right;\">\n",
       "      <th></th>\n",
       "      <th>Unnamed: 0</th>\n",
       "      <th>duration</th>\n",
       "      <th>start_city</th>\n",
       "      <th>start_id</th>\n",
       "      <th>start_lat</th>\n",
       "      <th>start_lng</th>\n",
       "      <th>subscription_type</th>\n",
       "    </tr>\n",
       "  </thead>\n",
       "  <tbody>\n",
       "    <tr>\n",
       "      <th>0</th>\n",
       "      <td>0</td>\n",
       "      <td>1.050000</td>\n",
       "      <td>San Francisco</td>\n",
       "      <td>66</td>\n",
       "      <td>37.774814</td>\n",
       "      <td>-122.418954</td>\n",
       "      <td>Subscriber</td>\n",
       "    </tr>\n",
       "    <tr>\n",
       "      <th>1</th>\n",
       "      <td>1</td>\n",
       "      <td>1.166667</td>\n",
       "      <td>San Jose</td>\n",
       "      <td>10</td>\n",
       "      <td>37.337391</td>\n",
       "      <td>-121.886995</td>\n",
       "      <td>Subscriber</td>\n",
       "    </tr>\n",
       "    <tr>\n",
       "      <th>2</th>\n",
       "      <td>2</td>\n",
       "      <td>1.183333</td>\n",
       "      <td>Mountain View</td>\n",
       "      <td>27</td>\n",
       "      <td>37.389218</td>\n",
       "      <td>-122.081896</td>\n",
       "      <td>Subscriber</td>\n",
       "    </tr>\n",
       "    <tr>\n",
       "      <th>3</th>\n",
       "      <td>3</td>\n",
       "      <td>1.283333</td>\n",
       "      <td>San Jose</td>\n",
       "      <td>10</td>\n",
       "      <td>37.337391</td>\n",
       "      <td>-121.886995</td>\n",
       "      <td>Subscriber</td>\n",
       "    </tr>\n",
       "    <tr>\n",
       "      <th>4</th>\n",
       "      <td>4</td>\n",
       "      <td>1.383333</td>\n",
       "      <td>San Francisco</td>\n",
       "      <td>66</td>\n",
       "      <td>37.774814</td>\n",
       "      <td>-122.418954</td>\n",
       "      <td>Subscriber</td>\n",
       "    </tr>\n",
       "  </tbody>\n",
       "</table>\n",
       "</div>"
      ],
      "text/plain": [
       "   Unnamed: 0  duration     start_city  start_id  start_lat   start_lng  \\\n",
       "0           0  1.050000  San Francisco        66  37.774814 -122.418954   \n",
       "1           1  1.166667       San Jose        10  37.337391 -121.886995   \n",
       "2           2  1.183333  Mountain View        27  37.389218 -122.081896   \n",
       "3           3  1.283333       San Jose        10  37.337391 -121.886995   \n",
       "4           4  1.383333  San Francisco        66  37.774814 -122.418954   \n",
       "\n",
       "  subscription_type  \n",
       "0        Subscriber  \n",
       "1        Subscriber  \n",
       "2        Subscriber  \n",
       "3        Subscriber  \n",
       "4        Subscriber  "
      ]
     },
     "execution_count": 32,
     "metadata": {},
     "output_type": "execute_result"
    }
   ],
   "source": [
    "custom_summarise_data(trip_in, station_data, 'data/babs_y2_y3_summary.csv')\n",
    "location_df = pd.read_csv('data/babs_y2_y3_summary.csv', low_memory=False)\n",
    "location_df.head()"
   ]
  },
  {
   "cell_type": "code",
   "execution_count": 90,
   "metadata": {},
   "outputs": [
    {
     "data": {
      "text/html": [
       "<div>\n",
       "<style>\n",
       "    .dataframe thead tr:only-child th {\n",
       "        text-align: right;\n",
       "    }\n",
       "\n",
       "    .dataframe thead th {\n",
       "        text-align: left;\n",
       "    }\n",
       "\n",
       "    .dataframe tbody tr th {\n",
       "        vertical-align: top;\n",
       "    }\n",
       "</style>\n",
       "<table border=\"1\" class=\"dataframe\">\n",
       "  <thead>\n",
       "    <tr style=\"text-align: right;\">\n",
       "      <th></th>\n",
       "      <th>duration</th>\n",
       "    </tr>\n",
       "    <tr>\n",
       "      <th>start_city</th>\n",
       "      <th></th>\n",
       "    </tr>\n",
       "  </thead>\n",
       "  <tbody>\n",
       "    <tr>\n",
       "      <th>Mountain View</th>\n",
       "      <td>18167</td>\n",
       "    </tr>\n",
       "    <tr>\n",
       "      <th>Palo Alto</th>\n",
       "      <td>6773</td>\n",
       "    </tr>\n",
       "    <tr>\n",
       "      <th>Redwood City</th>\n",
       "      <td>3433</td>\n",
       "    </tr>\n",
       "    <tr>\n",
       "      <th>San Francisco</th>\n",
       "      <td>603708</td>\n",
       "    </tr>\n",
       "    <tr>\n",
       "      <th>San Jose</th>\n",
       "      <td>37878</td>\n",
       "    </tr>\n",
       "  </tbody>\n",
       "</table>\n",
       "</div>"
      ],
      "text/plain": [
       "               duration\n",
       "start_city             \n",
       "Mountain View     18167\n",
       "Palo Alto          6773\n",
       "Redwood City       3433\n",
       "San Francisco    603708\n",
       "San Jose          37878"
      ]
     },
     "execution_count": 90,
     "metadata": {},
     "output_type": "execute_result"
    }
   ],
   "source": [
    "location_df.groupby('start_city')[['duration']].count()"
   ]
  },
  {
   "cell_type": "markdown",
   "metadata": {},
   "source": [
    "# Pergunta 5a\n",
    "Explore os dados e faça um gráfico que demonstre alguma particularidade dos dados:"
   ]
  },
  {
   "cell_type": "code",
   "execution_count": 34,
   "metadata": {},
   "outputs": [
    {
     "data": {
      "image/png": "[encoded data removed]",
      "text/plain": [
       "<matplotlib.figure.Figure at 0x10f13f910>"
      ]
     },
     "metadata": {},
     "output_type": "display_data"
    }
   ],
   "source": [
    "plot_stations_in_map(location_df)"
   ]
  },
  {
   "cell_type": "markdown",
   "metadata": {},
   "source": [
    "O que é interessante na visualização acima? Por que você a selecionou?\n",
    "\n",
    "## Resposta\n",
    "Como possuímos a coordenadas geograficas das estações, é estremamente poderoso vizualiarmos num mapa pontos representados cada estação.\n",
    "\n",
    "Podemos ver que é natural a maior quantidade de viagens ocorrer em San Fracisco justamente porque as estações são mais numerosas e próximas nessa localidade."
   ]
  },
  {
   "cell_type": "markdown",
   "metadata": {},
   "source": [
    "# Pergunta 5b\n",
    "Faça um gráfico que demonstre alguma particularidade dos dados:"
   ]
  },
  {
   "cell_type": "code",
   "execution_count": null,
   "metadata": {},
   "outputs": [],
   "source": [
    "location_df = pd.read_csv('data/babs_y2_y3_summary.csv', low_memory=False)\n",
    "\n",
    "marker_dimension = dict()\n",
    "for name, row in location_df.groupby('start_city').count().iterrows():\n",
    "    marker_dimension[name] = { 'markersize': row['duration'] }\n",
    "\n",
    "for name, data in marker_dimension.iteritems():\n",
    "    df = location_df[location_df['start_city'] == name]\n",
    "    marker_dimension[name]['lat'] = df['start_lat'].mean()\n",
    "    marker_dimension[name]['lng'] = df['start_lng'].mean()\n",
    "\n",
    "plt.figure(figsize=(16, 9))\n",
    "\n",
    "import math\n",
    "atlas = Basemap(\n",
    "    llcrnrlon  = -123.000000000,\n",
    "    llcrnrlat  =   38.000000000,\n",
    "    urcrnrlon  = -122.000000000,\n",
    "    urcrnrlat  =  37.0000000000,\n",
    "    resolution = 'h',\n",
    "    projection = 'tmerc',\n",
    "    lat_0      =  37.6200192727,\n",
    "    lon_0      = -122.359477129\n",
    ")\n",
    "\n",
    "atlas.drawcoastlines()\n",
    "atlas.drawcounties(zorder=0, color='gray')\n",
    "\n",
    "lat = []\n",
    "lng = []\n",
    "sizes = []\n",
    "labels = []\n",
    "\n",
    "for name, city in marker_dimension.iteritems():\n",
    "    labels.append(name)\n",
    "    lat.append(city['lat'])\n",
    "    lng.append(city['lng'])\n",
    "    sizes.append(city['markersize']/10.0)\n",
    "\n",
    "lng, lat = atlas(lng, lat)\n",
    "atlas.scatter(lng, lat, s=sizes, cmap=cm.cool, marker=\"o\", alpha=0.7)"
   ]
  },
  {
   "cell_type": "markdown",
   "metadata": {},
   "source": [
    "O que é interessante na visualização acima? Por que você a selecionou?\n",
    "\n",
    "**Answer**: Escreva a sua resposta aqui"
   ]
  },
  {
   "cell_type": "markdown",
   "metadata": {},
   "source": [
    "## Conclusões\n",
    "\n",
    "Parabéns pela conclusão do projeto! Esta é apenas uma amostragem do processo de análise de dados: gerando perguntas, limpando e explorando os dados. Normalmente, neste momento no processo de análise de dados, você pode querer tirar conclusões realizando um teste estatístico ou ajustando os dados a um modelo para fazer previsões. Há também muitas análises potenciais que podem ser realizadas se evoluirmos o código fornecido. Em vez de apenas olhar para o número de viagens no eixo de resultados, você pode ver quais recursos afetam coisas como a duração da viagem. Nós também não analisamos como os dados meteorológicos se encaixam no uso de bicicletas."
   ]
  },
  {
   "cell_type": "markdown",
   "metadata": {},
   "source": [
    "# Pergunta 6\n",
    "Pense em um tópico ou campo de interesse onde você gostaria de poder aplicar as técnicas da ciência dos dados. O que você gostaria de aprender com o assunto escolhido?\n",
    "\n",
    "**Responda**: Substitua este texto pela sua resposta!"
   ]
  },
  {
   "cell_type": "markdown",
   "metadata": {},
   "source": [
    "> **Dica**: se quisermos compartilhar os resultados de nossa análise com os outros, existe uma outra opção que não é enviar o arquivo jupyter Notebook (.ipynb). Também podemos exportar a saída do Notebook de uma forma que pode ser aberto mesmo para aqueles sem o Python instalado. No menu **File** na parte superior esquerda, vá para o submenu **Download as**. Você pode então escolher um formato diferente que pode ser visto de forma mais geral, como HTML (.html) ou PDF (.pdf). Você pode precisar de pacotes adicionais ou software para executar essas exportações."
   ]
  },
  {
   "cell_type": "code",
   "execution_count": null,
   "metadata": {
    "collapsed": true
   },
   "outputs": [],
   "source": []
  }
 ],
 "metadata": {
  "anaconda-cloud": {},
  "kernelspec": {
   "display_name": "Python 2",
   "language": "python",
   "name": "python2"
  },
  "language_info": {
   "codemirror_mode": {
    "name": "ipython",
    "version": 2
   },
   "file_extension": ".py",
   "mimetype": "text/x-python",
   "name": "python",
   "nbconvert_exporter": "python",
   "pygments_lexer": "ipython2",
   "version": "2.7.13"
  }
 },
 "nbformat": 4,
 "nbformat_minor": 1
}
